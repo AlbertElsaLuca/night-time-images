{
  "nbformat": 4,
  "nbformat_minor": 0,
  "metadata": {
    "colab": {
      "name": "select_night_images.ipynb",
      "provenance": []
    },
    "kernelspec": {
      "name": "python3",
      "display_name": "Python 3"
    },
    "language_info": {
      "name": "python"
    }
  },
  "cells": [
    {
      "cell_type": "code",
      "execution_count": null,
      "metadata": {
        "id": "uvMDrlb2I4VN"
      },
      "outputs": [],
      "source": [
        "\"\"\"\n",
        "-connect to the Google Drive\n",
        "-path_in : input file containing photos (305) from tokyo_xs\n",
        "-path_out: output file. containing photos (105) from tokyo_xs that has been taken atv night time\n",
        "-photos taken at night time has low value pixels\n",
        "\"\"\"\n",
        "import pdb\n",
        "import numpy as np\n",
        "import os, shutil,cv2\n",
        "number_images=0\n",
        "path_in=\"tokyo_xs/test/queries\"\n",
        "path_out=\"tokyo-night\"\n",
        "def night(img):\n",
        "  threshold=0.55\n",
        "  min=50\n",
        "  flat=img.flatten()\n",
        "  zeros=np.array([i for i in flat if i<min])\n",
        "  percentage= len(zeros)/flat.shape[0]\n",
        "  if percentage>threshold:\n",
        "    return True\n",
        "  else:\n",
        "    return False\n",
        "\n",
        "def filter_night(input_path,output_path):\n",
        "  #pdb.set_trace()\n",
        "  list_night=[]\n",
        "  for f in os.listdir(input_path):    #for each photo in the input dir\n",
        "    try:\n",
        "      path=os.path.join(input_path,f)  #create the full path of the photo\n",
        "      #print(path)\n",
        "      image=cv2.imread(path)\n",
        "      #print(image)\n",
        "      value=night(image)              #value: True--> night time photo , False--> day time photos\n",
        "      #print(value)\n",
        "      if value==True:\n",
        "        list_night.append(image)   \n",
        "        #photo taken at night, so save it\n",
        "        #print(path)\n",
        "        shutil.copy(path,output_path)     # if night time photo --> copy it in the output file\n",
        "        #move the image into the tokyo-night directory\n",
        "    except Exception as e:\n",
        "      pass\n",
        "  return list_night"
      ]
    }
  ]
}